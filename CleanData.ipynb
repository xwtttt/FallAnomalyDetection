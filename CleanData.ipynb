{
 "cells": [
  {
   "cell_type": "code",
   "execution_count": 102,
   "metadata": {},
   "outputs": [],
   "source": [
    "import pandas as pd \n",
    "import matplotlib.pyplot as plt\n",
    "import numpy as np\n",
    "import os, math"
   ]
  },
  {
   "cell_type": "code",
   "execution_count": 83,
   "metadata": {},
   "outputs": [],
   "source": [
    "# 获取文件列表\n",
    "def get_data_path(dir_name):\n",
    "    data_path = []\n",
    "    dir_list = os.listdir('./UseDataset/' + dir_name)\n",
    "    if 'desktop.ini' in dir_list:\n",
    "        dir_list.remove('desktop.ini')\n",
    "    elif 'images.rar' in dir_list:\n",
    "        dir_list.remove('images.rar')\n",
    "    for i in range(len(dir_list)):\n",
    "        data_path.append(os.path.join(os.getcwd(), 'UseDataset', dir_name, dir_list[i]))\n",
    "    return data_path"
   ]
  },
  {
   "cell_type": "code",
   "execution_count": 84,
   "metadata": {},
   "outputs": [],
   "source": [
    "# 删除不需要的部分\n",
    "def delete_strings(dir_name):\n",
    "    data_path = get_data_path(dir_name)\n",
    "    for i in range(len(data_path)):\n",
    "        with open(data_path[i], 'rt') as f:\n",
    "            data = f.read()\n",
    "            data = data.replace(\";\", \"\")\n",
    "            data = data.replace(\" \", \"\")\n",
    "        with open(data_path[i], 'wt') as f:\n",
    "            f.write(data)\n"
   ]
  },
  {
   "cell_type": "code",
   "execution_count": 89,
   "metadata": {},
   "outputs": [],
   "source": [
    "# 删除不需要的部分\n",
    "# delete_strings()"
   ]
  }
 ],
 "metadata": {
  "interpreter": {
   "hash": "3f6f60d731c33e0cef43b666a600631f9e0b6b03815d04d8437802139a50d81e"
  },
  "kernelspec": {
   "display_name": "Python 3.9.7 64-bit ('torch180': conda)",
   "language": "python",
   "name": "python3"
  },
  "language_info": {
   "codemirror_mode": {
    "name": "ipython",
    "version": 3
   },
   "file_extension": ".py",
   "mimetype": "text/x-python",
   "name": "python",
   "nbconvert_exporter": "python",
   "pygments_lexer": "ipython3",
   "version": "3.9.7"
  },
  "orig_nbformat": 4
 },
 "nbformat": 4,
 "nbformat_minor": 2
}
