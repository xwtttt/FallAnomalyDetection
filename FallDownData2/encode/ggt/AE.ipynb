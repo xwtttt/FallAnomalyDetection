{
 "cells": [
  {
   "cell_type": "code",
   "execution_count": 1,
   "metadata": {},
   "outputs": [],
   "source": [
    "import os\n",
    "import tensorflow as tf\n",
    "from tensorflow import keras\n",
    "os.environ['TF_CPP_MIN_LOG_LEVEL'] = \"3\"\n",
    "import numpy as np\n",
    "import json\n",
    "from sklearn.model_selection import StratifiedKFold\n",
    "from sklearn.metrics import roc_auc_score, accuracy_score, confusion_matrix   #copy"
   ]
  },
  {
   "cell_type": "code",
   "execution_count": 2,
   "metadata": {},
   "outputs": [],
   "source": [
    "data = np.load('ggt.npz')       #mark final.npz\n",
    "label = data['y']\n",
    "Bigdata = data['X']\n",
    "Bigdata[np.isnan(Bigdata)] = 0.\n",
    "#Bigdata = Bigdata[:,:,1:]\n",
    "results = {}\n",
    "results['acc'] = []\n",
    "results['auc'] = []\n",
    "results['confMat'] = []  #add\n",
    "fold = 0\n",
    "label[label < 5] = 0\n",
    "label[label==5] = 1\n",
    "y = label\n",
    "index=np.arange(440)\n",
    "np.random.shuffle(index)\n",
    "y=y[index]\n",
    "Bigdata=Bigdata[index][:,:,1:]\n",
    "kfold = StratifiedKFold(n_splits=5, shuffle=True, random_state=22)"
   ]
  },
  {
   "cell_type": "code",
   "execution_count": 3,
   "metadata": {},
   "outputs": [
    {
     "name": "stdout",
     "output_type": "stream",
     "text": [
      "run fold:0\n",
      "Train on 281 samples, validate on 71 samples\n",
      "281/281 - 20s - loss: 3199018597.1246 - val_loss: 3196294551.4366\n",
      "run fold:0\n",
      "Train on 281 samples, validate on 71 samples\n",
      "281/281 - 17s - loss: 3206928821.2954 - val_loss: 3183374945.3521\n",
      "run fold:0\n",
      "Train on 281 samples, validate on 71 samples\n",
      "281/281 - 16s - loss: 3193202622.4057 - val_loss: 3196132878.4225\n",
      "run fold:0\n",
      "Train on 281 samples, validate on 71 samples\n",
      "281/281 - 17s - loss: 3210685388.9822 - val_loss: 3183378129.1268\n",
      "run fold:0\n",
      "Train on 281 samples, validate on 71 samples\n",
      "281/281 - 16s - loss: 3198628249.9644 - val_loss: 3172684028.3944\n"
     ]
    }
   ],
   "source": [
    "for train, test in kfold.split(np.zeros(len(y)), y):\n",
    "    print(\"run fold:{0}\".format(fold))\n",
    "    train_x, train_y = Bigdata[train], y[train]\n",
    "    test_x, test_y = Bigdata[test], y[test]\n",
    "    #train_y, test_y = tf.one_hot(train_y, depth=6).numpy(), tf.one_hot(test_y, depth=6).numpy()\n",
    "\n",
    "    model = tf.keras.Sequential([\n",
    "    #444,500,7 -> 444 500 256\n",
    "    tf.keras.layers.LSTM(256, return_sequences=True, input_shape=(500, 7)),\n",
    "    #444 500 256 -> 444 500 64\n",
    "    tf.keras.layers.LSTM(64, return_sequences=True),\n",
    "    tf.keras.layers.LSTM(2, return_sequences=True),\n",
    "    tf.keras.layers.LSTM(64, return_sequences=True),\n",
    "    tf.keras.layers.LSTM(256, return_sequences=True),\n",
    "    tf.keras.layers.LSTM(7, return_sequences=True),\n",
    "    ])\n",
    "    #2\n",
    "\n",
    "    model.compile(optimizer='adam', loss=keras.losses.mean_squared_error)\n",
    "    TensorBoard_callback = keras.callbacks.TensorBoard('logs_without_timestamp/' + str(fold) +\"/\" , histogram_freq=1)\n",
    "    EarlyStopping_callback = keras.callbacks.EarlyStopping(patience=5)\n",
    "    checkpoint_callback = keras.callbacks.ModelCheckpoint('checkpoint_without_timestamp/fold_' + str(fold) +\"/\" , save_best_only=True, save_weights_only=True)\n",
    "    \n",
    "    model.fit(x=train_x, y=train_x, batch_size=64, epochs=1, validation_split=0.2, callbacks=[TensorBoard_callback, EarlyStopping_callback, checkpoint_callback], verbose=2)\n"
   ]
  }
 ],
 "metadata": {
  "interpreter": {
   "hash": "2bd073cb496bcba8551760b0ceade43cf20e6d26916e9d36c5e75c5652a532f3"
  },
  "kernelspec": {
   "display_name": "Python 3.7.11 64-bit ('tf2.1': conda)",
   "language": "python",
   "name": "python3"
  },
  "language_info": {
   "codemirror_mode": {
    "name": "ipython",
    "version": 3
   },
   "file_extension": ".py",
   "mimetype": "text/x-python",
   "name": "python",
   "nbconvert_exporter": "python",
   "pygments_lexer": "ipython3",
   "version": "3.7.11"
  },
  "orig_nbformat": 4
 },
 "nbformat": 4,
 "nbformat_minor": 2
}
