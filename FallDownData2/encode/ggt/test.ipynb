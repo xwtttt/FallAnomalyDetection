{
 "cells": [
  {
   "cell_type": "code",
   "execution_count": 1,
   "metadata": {},
   "outputs": [],
   "source": [
    "import numpy as np"
   ]
  },
  {
   "cell_type": "code",
   "execution_count": 2,
   "metadata": {},
   "outputs": [],
   "source": [
    "data = np.load(\"ggt.npz\")\n",
    "X = data[\"X\"]\n",
    "y = data[\"y\"]"
   ]
  },
  {
   "cell_type": "code",
   "execution_count": 11,
   "metadata": {},
   "outputs": [
    {
     "data": {
      "text/plain": [
       "(array([  0,   1,   2,   3,   4,   5,   6,   7,   8,   9,  10,  11,  12,\n",
       "         13,  14,  15,  16,  17,  18,  19,  20,  21,  22,  23,  24,  25,\n",
       "         26,  27,  28,  29,  30,  31,  32,  33,  34,  35,  36,  37,  38,\n",
       "         39,  40,  41,  42,  43,  44,  45,  46,  47,  48,  49,  50,  51,\n",
       "         52,  53,  54,  55,  56,  57,  58,  59,  60,  61,  62,  64,  65,\n",
       "         66,  67,  68,  69,  71,  73,  74,  75,  78,  79,  83,  84,  88,\n",
       "         90,  91,  99, 109, 112, 116, 121, 147]),\n",
       " array([ 1,  2,  3,  1,  1,  4,  5,  6,  6, 12,  4,  8, 11, 14,  9,  7,  6,\n",
       "         7, 15,  7,  8,  9, 13, 11, 11,  8, 11,  5, 15, 11, 12,  8,  9, 12,\n",
       "         4, 11,  9, 10,  5, 12,  6,  6,  3,  9,  4,  4,  4,  3,  5,  4,  1,\n",
       "         5,  3,  7,  3,  4,  2,  4,  2,  1,  2,  3,  3,  1,  2,  4,  3,  2,\n",
       "         1,  1,  2,  1,  2,  2,  1,  1,  1,  1,  1,  1,  1,  1,  1,  1,  1,\n",
       "         1], dtype=int64))"
      ]
     },
     "execution_count": 11,
     "metadata": {},
     "output_type": "execute_result"
    }
   ],
   "source": [
    "np.unique(np.isnan(X).all(axis=2).astype(np.int32).sum(axis=-1), return_counts=True)"
   ]
  },
  {
   "cell_type": "code",
   "execution_count": 15,
   "metadata": {},
   "outputs": [
    {
     "data": {
      "text/plain": [
       "(array([ 65,  90, 112, 121, 131, 136, 195, 203, 208, 239, 254, 257, 260,\n",
       "        264, 266, 278, 279, 290, 308, 379], dtype=int64),)"
      ]
     },
     "execution_count": 15,
     "metadata": {},
     "output_type": "execute_result"
    }
   ],
   "source": [
    "np.where(np.isnan(X).all(axis=2).astype(np.int32).sum(axis=-1)>69)"
   ]
  },
  {
   "cell_type": "code",
   "execution_count": null,
   "metadata": {},
   "outputs": [],
   "source": []
  }
 ],
 "metadata": {
  "interpreter": {
   "hash": "b9cd6eddfbd1a6b9ee0f978987cc25d0e10ce92ec79b57ca96da5ef1618e4090"
  },
  "kernelspec": {
   "display_name": "Python 3.7.9 64-bit",
   "language": "python",
   "name": "python3"
  },
  "language_info": {
   "codemirror_mode": {
    "name": "ipython",
    "version": 3
   },
   "file_extension": ".py",
   "mimetype": "text/x-python",
   "name": "python",
   "nbconvert_exporter": "python",
   "pygments_lexer": "ipython3",
   "version": "3.7.9"
  },
  "orig_nbformat": 4
 },
 "nbformat": 4,
 "nbformat_minor": 2
}
