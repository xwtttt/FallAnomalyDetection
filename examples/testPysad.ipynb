{
 "cells": [
  {
   "cell_type": "code",
   "execution_count": 1,
   "metadata": {},
   "outputs": [],
   "source": [
    "# Import modules.\n",
    "from sklearn.utils import shuffle\n",
    "from pysad.evaluation import AUROCMetric\n",
    "from pysad.models import xStream\n",
    "from pysad.utils import ArrayStreamer\n",
    "from pysad.transform.postprocessing import RunningAveragePostprocessor\n",
    "from pysad.transform.preprocessing import InstanceUnitNormScaler\n",
    "from pysad.utils import Data\n",
    "from tqdm import tqdm\n",
    "import numpy as np\n"
   ]
  },
  {
   "cell_type": "code",
   "execution_count": 3,
   "metadata": {},
   "outputs": [
    {
     "name": "stderr",
     "output_type": "stream",
     "text": [
      "352it [01:20,  4.39it/s]"
     ]
    },
    {
     "name": "stdout",
     "output_type": "stream",
     "text": [
      "AUROC:  0.6209296544867015\n"
     ]
    },
    {
     "name": "stderr",
     "output_type": "stream",
     "text": [
      "\n"
     ]
    }
   ],
   "source": [
    "\n",
    "# This example demonstrates the usage of the most modules in PySAD framework.\n",
    "if __name__ == \"__main__\":\n",
    "    np.random.seed(61)  # Fix random seed.\n",
    "\n",
    "    # Get data to stream.\n",
    "    data = Data(\"data\")\n",
    "    X_all, y_all = data.get_data(\"arrhythmia.mat\")\n",
    "    X_all, y_all = shuffle(X_all, y_all)\n",
    "\n",
    "    iterator = ArrayStreamer(shuffle=False)  # Init streamer to simulate streaming data.\n",
    "\n",
    "    model = xStream()  # Init xStream anomaly detection model.\n",
    "    preprocessor = InstanceUnitNormScaler()  # Init normalizer.\n",
    "    postprocessor = RunningAveragePostprocessor(window_size=5)  # Init running average postprocessor.\n",
    "    auroc = AUROCMetric()  # Init area under receiver-operating- characteristics curve metric.\n",
    "\n",
    "    for X, y in tqdm(iterator.iter(X_all[100:], y_all[100:])):  # Stream data.\n",
    "        X = preprocessor.fit_transform_partial(X)  # Fit preprocessor to and transform the instance.\n",
    "\n",
    "        score = model.fit_score_partial(X)  # Fit model to and score the instance.\n",
    "        score = postprocessor.fit_transform_partial(score)  # Apply running averaging to the score.\n",
    "\n",
    "        auroc.update(y, score)  # Update AUROC metric.\n",
    "\n",
    "    # Output resulting AUROCS metric.\n",
    "    print(\"AUROC: \", auroc.get())"
   ]
  }
 ],
 "metadata": {
  "interpreter": {
   "hash": "3f6f60d731c33e0cef43b666a600631f9e0b6b03815d04d8437802139a50d81e"
  },
  "kernelspec": {
   "display_name": "Python 3.9.7 64-bit ('torch180': conda)",
   "language": "python",
   "name": "python3"
  },
  "language_info": {
   "codemirror_mode": {
    "name": "ipython",
    "version": 3
   },
   "file_extension": ".py",
   "mimetype": "text/x-python",
   "name": "python",
   "nbconvert_exporter": "python",
   "pygments_lexer": "ipython3",
   "version": "3.9.7"
  },
  "orig_nbformat": 4
 },
 "nbformat": 4,
 "nbformat_minor": 2
}
